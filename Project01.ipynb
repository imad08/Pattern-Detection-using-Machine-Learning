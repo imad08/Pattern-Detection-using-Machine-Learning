{
 "cells": [
  {
   "cell_type": "code",
   "execution_count": 53,
   "metadata": {},
   "outputs": [],
   "source": [
    "import pandas as pd"
   ]
  },
  {
   "cell_type": "code",
   "execution_count": 54,
   "metadata": {},
   "outputs": [],
   "source": [
    "from io import StringIO\n",
    "\n",
    "dataset = 'NIFTY_SEP.txt'\n",
    "sio = StringIO(open(dataset).read().replace(':','0'))\n",
    "column_names = ['NIFTY','Date','Time','Open','High','Low','Close','xxx','yyy']\n",
    "nifty_data = pd.read_csv(sio, names=column_names)\n",
    "del nifty_data['NIFTY']\n",
    "del nifty_data['xxx']\n",
    "del nifty_data['yyy']"
   ]
  },
  {
   "cell_type": "code",
   "execution_count": 55,
   "metadata": {
    "scrolled": true
   },
   "outputs": [],
   "source": [
    "#print(nifty_data.to_string())"
   ]
  },
  {
   "cell_type": "code",
   "execution_count": 56,
   "metadata": {},
   "outputs": [],
   "source": [
    "import numpy as np\n",
    "stock_open = np.zeros(264,dtype=float)\n",
    "stock_close = np.zeros(264,dtype=float)\n",
    "stock_high = np.zeros(264,dtype=float)\n",
    "#stock_low = np.zeros(264,dtype=float)\n",
    "stock_low = np.full(shape=264,fill_value=15000,dtype=float)"
   ]
  },
  {
   "cell_type": "code",
   "execution_count": 57,
   "metadata": {},
   "outputs": [],
   "source": [
    "#print(type(nifty_data.Date[1]))"
   ]
  },
  {
   "cell_type": "code",
   "execution_count": 58,
   "metadata": {},
   "outputs": [],
   "source": [
    "time = np.array([9031,10001,10031,11001,11031,12001,12031,13001,13031,14001,14031,15001])\n",
    "a = 0\n",
    "for i in range(0,22):\n",
    "    for j in range(0,12): \n",
    "        for x in range(a,10000):\n",
    "            if (nifty_data.Time[x] == time[j]):\n",
    "                stock_open[j+(i*12)] = nifty_data.Open[x]\n",
    "                #print(i,j,x)\n",
    "                a = x\n",
    "                break\n"
   ]
  },
  {
   "cell_type": "code",
   "execution_count": 59,
   "metadata": {},
   "outputs": [],
   "source": [
    "time = np.array([10000,10030,11000,11030,12000,12030,13000,13030,14000,14030,15000,15030])\n",
    "a = 0\n",
    "for i in range(0,22):\n",
    "    for j in range(0,12):\n",
    "        for x in range(a,10000):\n",
    "            if (nifty_data.Time[x] == time[j]):\n",
    "                stock_close[j+(i*12)] = nifty_data.Close[x] \n",
    "                a = x\n",
    "                break"
   ]
  },
  {
   "cell_type": "code",
   "execution_count": 60,
   "metadata": {},
   "outputs": [],
   "source": [
    "time = np.array([9031,10001,10031,11001,11031,12001,12031,13001,13031,14001,14031,15001,15030])\n",
    "a = 0\n",
    "for i in range(0,22):\n",
    "    for j in range(0,12): \n",
    "        for x in range(a,10000):\n",
    "            if (nifty_data.Time[x] >= time[j] and nifty_data.Time[x] < time[j+1]):\n",
    "                stock_high[j+(i*12)] = max(stock_high[j+(i*12)],nifty_data.High[x])\n",
    "                stock_low[j+(i*12)] = min(stock_low[j+(i*12)],nifty_data.Low[x])\n",
    "            elif(nifty_data.Time[x] == time[j+1]):\n",
    "                #print(i,j,x)\n",
    "                a=x\n",
    "                break"
   ]
  },
  {
   "cell_type": "code",
   "execution_count": 61,
   "metadata": {},
   "outputs": [],
   "source": [
    "dictionary = {\n",
    "    'open':stock_open,\n",
    "    'high':stock_high,\n",
    "    'low':stock_low,\n",
    "    'close':stock_close\n",
    "}"
   ]
  },
  {
   "cell_type": "code",
   "execution_count": 62,
   "metadata": {
    "scrolled": true
   },
   "outputs": [],
   "source": [
    "df = pd.DataFrame(dictionary)\n",
    "pd.set_option(\"display.max_rows\", None, \"display.max_columns\", None)\n",
    "#print(df)"
   ]
  },
  {
   "cell_type": "code",
   "execution_count": 63,
   "metadata": {},
   "outputs": [],
   "source": [
    "def check_spinning_top(o,h,l,c):\n",
    "    d = abs(o-c) < (h+l)/5000\n",
    "    f = abs(((o+c)-(h+l))/2) < (h+l)/5000\n",
    "    if d and f:\n",
    "        return 1\n",
    "    else:\n",
    "        return 0"
   ]
  },
  {
   "cell_type": "code",
   "execution_count": 65,
   "metadata": {},
   "outputs": [],
   "source": [
    "def before_trend(i):\n",
    "    a = (df.high[i] + df.low[i])/2\n",
    "    a_5 = (df.high[i-5] + df.low[i-5])/2\n",
    "    if a > a_5:\n",
    "        return 1\n",
    "    else:\n",
    "        return 0"
   ]
  },
  {
   "cell_type": "code",
   "execution_count": 66,
   "metadata": {},
   "outputs": [],
   "source": [
    "#before_trend(14)"
   ]
  },
  {
   "cell_type": "code",
   "execution_count": 67,
   "metadata": {},
   "outputs": [],
   "source": [
    "def after_trend(i):\n",
    "    a = (df.high[i] + df.low[i])/2\n",
    "    a_2 = (df.high[i+2] + df.low[i+2])/2\n",
    "    if a < a_2:\n",
    "        return 1\n",
    "    else:\n",
    "        return 0"
   ]
  },
  {
   "cell_type": "code",
   "execution_count": 68,
   "metadata": {},
   "outputs": [],
   "source": [
    "#after_trend(14)"
   ]
  },
  {
   "cell_type": "code",
   "execution_count": 69,
   "metadata": {
    "scrolled": true
   },
   "outputs": [
    {
     "name": "stdout",
     "output_type": "stream",
     "text": [
      "495971.5 0\n"
     ]
    }
   ],
   "source": [
    "def trading():\n",
    "    total_shares = 0\n",
    "    total_money = 500000\n",
    "    final_spinning_top = 0\n",
    "    for x in df.index:\n",
    "        if(check_spinning_top(df.open[x],df.high[x],df.low[x],df.close[x])):\n",
    "            #print(df.open[x],df.high[x],df.low[x],df.close[x])\n",
    "            #print(x)\n",
    "            if(before_trend(x)):\n",
    "                total_money = total_money + (total_shares/2)*(df.close[x])\n",
    "                total_shares = total_shares/2\n",
    "                if(after_trend(x)):\n",
    "                    total_money = total_money - (total_shares)*(df.close[x+2])\n",
    "                    total_shares = 2*total_shares\n",
    "                else:\n",
    "                    total_money = total_money + (total_shares)*(df.close[x+2])\n",
    "                    total_shares = 0\n",
    "            else:\n",
    "                total_money = total_money - 10*(df.close[x])\n",
    "                total_shares = total_shares + 10\n",
    "                if(after_trend(x)):\n",
    "                    total_money = total_money - 10*(df.close[x+2])\n",
    "                    total_shares = total_shares + 10\n",
    "                else:\n",
    "                    total_money = total_money + 10*(df.close[x+2])\n",
    "                    total_shares = total_shares - 10\n",
    "            final_spinning_top = x        \n",
    "    total_money = total_money + (total_shares*(df.close[final_spinning_top]))\n",
    "    total_shares = 0\n",
    "    print(total_money,total_shares)\n",
    "trading()    "
   ]
  },
  {
   "cell_type": "code",
   "execution_count": null,
   "metadata": {},
   "outputs": [],
   "source": []
  }
 ],
 "metadata": {
  "kernelspec": {
   "display_name": "Python 3",
   "language": "python",
   "name": "python3"
  },
  "language_info": {
   "codemirror_mode": {
    "name": "ipython",
    "version": 3
   },
   "file_extension": ".py",
   "mimetype": "text/x-python",
   "name": "python",
   "nbconvert_exporter": "python",
   "pygments_lexer": "ipython3",
   "version": "3.8.5"
  }
 },
 "nbformat": 4,
 "nbformat_minor": 4
}
